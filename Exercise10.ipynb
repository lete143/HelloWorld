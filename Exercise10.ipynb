aaaa
{
 "cells": [
  {
   "cell_type": "markdown",
   "id": "ec373677",
   "metadata": {},
   "source": [
    "問１：学生の名前とテストの点数をそれぞれキーと要素として以下の辞書を定義する。'an'の文字列がある学生の名前とその結びつけた点数を表示せよ.<br>  実行結果は以下のようになる.<br> Susan Mary 80<br> Julian Owen 70 <br>Nancy Young 90"
   ]
  },
  {
   "cell_type": "code",
   "execution_count": 1,
   "id": "4cd3e220",
   "metadata": {},
   "outputs": [],
   "source": [
    "import re\n",
    "exam = {'James Smith' : 75, 'Susan Mary' : 80, 'Julian Owen' : 70, 'Thomas Gates': 85, 'Nancy Young' : 90}"
   ]
  },
  {
   "cell_type": "code",
   "execution_count": null,
   "id": "673b833a",
   "metadata": {},
   "outputs": [],
   "source": []
  }
 ],
 "metadata": {
  "kernelspec": {
   "display_name": "Python 3 (ipykernel)",
   "language": "python",
   "name": "python3"
  },
  "language_info": {
   "codemirror_mode": {
    "name": "ipython",
    "version": 3
   },
   "file_extension": ".py",
   "mimetype": "text/x-python",
   "name": "python",
   "nbconvert_exporter": "python",
   "pygments_lexer": "ipython3",
   "version": "3.9.12"
  }
 },
 "nbformat": 4,
 "nbformat_minor": 5
}
